{
 "cells": [
  {
   "cell_type": "code",
   "execution_count": 1,
   "metadata": {},
   "outputs": [
    {
     "name": "stdout",
     "output_type": "stream",
     "text": [
      "Enter number of passwords to generate: 6\n",
      "Length of password: 8\n",
      "Passwords : \n",
      "n^KK7&19\n",
      "qd9Zzv3w\n",
      "BD1RD2K@\n",
      "hs!qwJU!\n",
      "hrmPEmLe\n",
      "n6xnBcJs\n"
     ]
    }
   ],
   "source": [
    "import random\n",
    "char = 'abcdefghijklmnopqrstuvwxyzABCDEFGHIJKLMNOPQRSTUVWXYZ!@#$%^&*()0123456789'\n",
    "number = int(input(\"Enter number of passwords to generate: \"))\n",
    "length = int(input('Length of password: '))\n",
    "print(\"Passwords : \")\n",
    "for i in range(number):\n",
    "    password = ''\n",
    "    for j in range(length):\n",
    "        password += random.choice(char)\n",
    "    print(password)\n"
   ]
  },
  {
   "cell_type": "code",
   "execution_count": null,
   "metadata": {},
   "outputs": [],
   "source": []
  }
 ],
 "metadata": {
  "kernelspec": {
   "display_name": "Python 3",
   "language": "python",
   "name": "python3"
  },
  "language_info": {
   "codemirror_mode": {
    "name": "ipython",
    "version": 3
   },
   "file_extension": ".py",
   "mimetype": "text/x-python",
   "name": "python",
   "nbconvert_exporter": "python",
   "pygments_lexer": "ipython3",
   "version": "3.8.5"
  }
 },
 "nbformat": 4,
 "nbformat_minor": 4
}
