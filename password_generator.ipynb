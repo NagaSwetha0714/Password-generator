{
 "cells": [
  {
   "cell_type": "code",
   "execution_count": 1,
   "metadata": {},
   "outputs": [
    {
     "name": "stdout",
     "output_type": "stream",
     "text": [
      "Enter number of passwords to generate: 10\n",
      "Length of password: 2\n",
      "Passwords : \n",
      "Bx\n",
      "OF\n",
      "e&\n",
      "B%\n",
      "Zm\n",
      "z*\n",
      "@c\n",
      "gW\n",
      "f2\n",
      "nK\n"
     ]
    }
   ],
   "source": [
    "import random\n",
    "char = 'abcdefghijklmnopqrstuvwxyzABCDEFGHIJKLMNOPQRSTUVWXYZ!@#$%^&*()0123456789'\n",
    "num = int(input(\"Enter number of passwords to generate: \"))\n",
    "len = int(input('Length of password: '))\n",
    "print(\"Passwords : \")\n",
    "for i in range(num):\n",
    "    pswrd = ''\n",
    "    for j in range(len):\n",
    "        pswrd += random.choice(char)\n",
    "    print(pswrd)\n"
   ]
  },
  {
   "cell_type": "code",
   "execution_count": null,
   "metadata": {},
   "outputs": [],
   "source": []
  }
 ],
 "metadata": {
  "kernelspec": {
   "display_name": "Python 3 (ipykernel)",
   "language": "python",
   "name": "python3"
  },
  "language_info": {
   "codemirror_mode": {
    "name": "ipython",
    "version": 3
   },
   "file_extension": ".py",
   "mimetype": "text/x-python",
   "name": "python",
   "nbconvert_exporter": "python",
   "pygments_lexer": "ipython3",
   "version": "3.6.13"
  }
 },
 "nbformat": 4,
 "nbformat_minor": 4
}
